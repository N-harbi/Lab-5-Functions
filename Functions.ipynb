{
  "nbformat": 4,
  "nbformat_minor": 0,
  "metadata": {
    "colab": {
      "provenance": [],
      "include_colab_link": true
    },
    "kernelspec": {
      "name": "python3",
      "display_name": "Python 3"
    },
    "language_info": {
      "name": "python"
    }
  },
  "cells": [
    {
      "cell_type": "markdown",
      "metadata": {
        "id": "view-in-github",
        "colab_type": "text"
      },
      "source": [
        "<a href=\"https://colab.research.google.com/github/N-harbi/Lab-5-Functions/blob/main/Functions.ipynb\" target=\"_parent\"><img src=\"https://colab.research.google.com/assets/colab-badge.svg\" alt=\"Open In Colab\"/></a>"
      ]
    },
    {
      "cell_type": "markdown",
      "source": [
        "# Functions in Python\n",
        "Functions are designed to perform the same task repeatedly. For the user, they operate like a black box, with no visibility into how the function is implemented. Users provide compatible arguments to the function, or in some cases, no arguments at all, and the function executes according to the programmer's implementation.\n",
        "\n",
        "## Objective\n",
        "- Understand how arguments are used in functions\n",
        "- Function variables visibility and global variables\n",
        "- Troubleshoot functions\n",
        "\n",
        "## Prerequisite\n",
        "\n",
        "- Lists & tuples\n",
        "- Decision and loops\n",
        "\n",
        "\n",
        "## What do you need to complete this exercise?\n",
        "\n",
        "You can perform this exercise in any Python IDE, including JupyterLab or Google Colab.\n"
      ],
      "metadata": {
        "id": "2ITy4ycVFXBq"
      }
    },
    {
      "cell_type": "markdown",
      "source": [
        "# Create a unit conversion program using functions\n",
        "1a. The user selects kilometers per liter (kpl), and the response will be provided in miles per gallon (mpg). The units must be interchangeable, so the program will ask the user whether to convert from kpl to mpg or vice versa.\n",
        "\n",
        "The program will prompt the user for input and deliver output with the appropriate units.\n",
        "\n",
        "Additionally, the program will include input validation. For example, it will not accept letter inputs and will provide an error message to the user when invalid input is detected.\n",
        "\n",
        "The function will also allow multiple arguments, enabling the user to convert multiple values at once.\n",
        "\n",
        "Research and find out the conversion factor between the units."
      ],
      "metadata": {
        "id": "uQxH0KO0tsDc"
      }
    },
    {
      "cell_type": "code",
      "source": [
        "def convert_fuel_efficienty(*values, conversion_type=\"kpl_to_mpg\"):\n",
        "  \"\"\"\n",
        "  converts multple values between kilometers per liter (kpl) and miles per gallon (mpg).\n",
        "\n",
        "  parameters:\n",
        "  -values: one or more numerical values to convert.\n",
        "  -conversion_type: \"kpl_to_mpg\" or \"mpg_to_kpl\".\n",
        "\n",
        "  returns:\n",
        "  - List of converted values.\n",
        "  \"\"\"\n",
        "  kpl_to_mpg_factor= 2.352\n",
        "  mpg_to_kpl_factor = 1 / 2.352\n",
        "\n",
        "  converted_values = []\n",
        "  for value in values:\n",
        "    if isinstance(values, (int, float)):\n",
        "      if conversion_type == \"kpl_to_mpg\":\n",
        "        converted_values.append(round(value * converted_factor, 2))\n",
        "      elif conversion_type == \"mpg_to_kpl\":\n",
        "        converted_values.append(round(value / converted_factor, 2))\n",
        "      else:\n",
        "          return \"Invalid conversion type. Use 'kpl_to_mpg' or 'mpg_to_kpl'.\"\n",
        "    else:\n",
        "          return \"Invalid input. Please enter a numerical value.\"\n",
        "  return converted_values\n",
        "  # Example usage:\n",
        "  print(convert_fuel_efficienty(10, 15, 20, conversion_type=\"kpl_to_mpg\")) #convert kpl to mpg\n",
        "  print(convert_fuel_efficienty(23.5, 30, conversion_type=\"mpg_to_kpl\")) #convert mpg to kpl"
      ],
      "metadata": {
        "id": "rRTflD1C9mjt"
      },
      "execution_count": 7,
      "outputs": []
    },
    {
      "cell_type": "markdown",
      "source": [
        "1b. How would you write a function that could take any number of unnamed arguments and print their values out in reverse order?\n"
      ],
      "metadata": {
        "id": "0jkTuRdlA6sk"
      }
    },
    {
      "cell_type": "code",
      "source": [
        "def reverse_arguments(*args):\n",
        "  \"\"\"prints the arguments in reverse order.\"\"\"\n",
        "  reversed_args = list(args)[::-1]  # Reverse the list of arguments\n",
        "  print(reversed_args)\n",
        "\n",
        "# Example usage:\n",
        "reverse_arguments(1, 2, 3, 4, 5)  # Output: [5, 4, 3, 2, 1]\n",
        "reverse_arguments(\"apple\", \"banana\", \"cherry\") # Output: ['cherry', 'banana', 'apple']"
      ],
      "metadata": {
        "colab": {
          "base_uri": "https://localhost:8080/"
        },
        "id": "9fFnvNbIzNnV",
        "outputId": "d189cc4c-f110-42c6-a6d3-a8452ebe1241"
      },
      "execution_count": 5,
      "outputs": [
        {
          "output_type": "stream",
          "name": "stdout",
          "text": [
            "[5, 4, 3, 2, 1]\n",
            "['cherry', 'banana', 'apple']\n"
          ]
        }
      ]
    },
    {
      "cell_type": "markdown",
      "source": [
        "1c. What would be the result of changing a list or dictionary that was passed into a function as a parameter value? Which operations would be likely to create changes that would be visible outside the function? What steps might you take to minimize that risk?\n",
        "\n",
        "Explain the above statements with the help of code."
      ],
      "metadata": {
        "id": "sL7k6J70zdzH"
      }
    },
    {
      "cell_type": "code",
      "source": [
        "def modify_list(lst):\n",
        "  \"\"\"Modifies a list by appending a new value.\"\"\"\n",
        "  lst.append(100) # This change affects the original list\n",
        "\n",
        "  def modify_list(d):\n",
        "    \"\"\"Modifies a dictionary by adding a new key-value pair.\"\"\"\n",
        "    d[\"new_key\"] = \"new_value\" # This change affects the original dictionary\n",
        "\n",
        "    # Example usage:\n",
        "    my_list = [1, 2, 3]\n",
        "    my_dict = {\"a\": 1, \"b\": 2}\n",
        "\n",
        "    modify_list(my_list)\n",
        "    modify_dict(my_dict)\n",
        "\n",
        "    print(my_list)  # Output: [1, 2, 3, 100] (List is modified)\n",
        "    print(my_dict)  # Output: {'a': 1, 'b': 2, 'new_key': 'new_value'} (Dictionary is modified)"
      ],
      "metadata": {
        "id": "8ZIVOfAMQt2Z"
      },
      "execution_count": 4,
      "outputs": []
    },
    {
      "cell_type": "markdown",
      "source": [
        "1d. Assuming that ```x = 5```, what will be the value of ```x``` after ```funct_1()``` below executes? After ```funct_2()``` executes?\n"
      ],
      "metadata": {
        "id": "1wWF-wZx2h9s"
      }
    },
    {
      "cell_type": "code",
      "source": [
        "x = 5  # Global variable\n",
        "\n",
        "def funct_1():\n",
        "    x = 3  # Local variable inside funct_1 (does not effect global x)\n",
        "\n",
        "def funct_2():\n",
        "    global x  # Declaring x as global\n",
        "    x = 2  # Modifying the global x\n",
        "\n",
        "# call funct_1 and print x\n",
        "funct_1()\n",
        "print(x)  # Output: 5 (funct_1() does not change the global x)\n",
        "\n",
        "# call funct_2 and print x\n",
        "funct_2()\n",
        "print(x)  # Output: 2 (funct_2() modifies the global x)"
      ],
      "metadata": {
        "id": "nvd-xB2v3AYh",
        "colab": {
          "base_uri": "https://localhost:8080/"
        },
        "outputId": "d9671b97-4f75-4dcc-b32c-70674c33d069"
      },
      "execution_count": 8,
      "outputs": [
        {
          "output_type": "stream",
          "name": "stdout",
          "text": [
            "5\n",
            "2\n"
          ]
        }
      ]
    },
    {
      "cell_type": "markdown",
      "source": [
        "# 2. Troubleshooting"
      ],
      "metadata": {
        "id": "tJlIQIYjBPLX"
      }
    },
    {
      "cell_type": "markdown",
      "source": [
        "Correct the following code. There might be more than one correct answers. Explain your reasoning."
      ],
      "metadata": {
        "id": "V8HkUVFy6DlD"
      }
    },
    {
      "cell_type": "code",
      "source": [
        "def my_func(a,b,*c): # Use *c to collect extra positional arguments\n",
        "  print(c)  # Prints extra arguments as a tuple\n",
        "\n",
        "my_func(1, 2, 3, 4, 5, 6) # Output: (3, 4, 5, 6)"
      ],
      "metadata": {
        "id": "bJzMzbxIsAU9",
        "colab": {
          "base_uri": "https://localhost:8080/"
        },
        "outputId": "52b8211b-02a3-452e-b2da-7d03418d7ae0"
      },
      "execution_count": 2,
      "outputs": [
        {
          "output_type": "stream",
          "name": "stdout",
          "text": [
            "(3, 4, 5, 6)\n"
          ]
        }
      ]
    },
    {
      "cell_type": "markdown",
      "source": [
        "Using the following code, x should print 100 but it prints 10, why?"
      ],
      "metadata": {
        "id": "sYDRYXa9vbX4"
      }
    },
    {
      "cell_type": "code",
      "source": [
        "x = 100  # Global variable\n",
        "\n",
        "def my_func_global():\n",
        "   global x # Now this modifies the global x\n",
        "   x = 10  # Changes global x to 10\n",
        "\n",
        "my_func_global()\n",
        "print(x)  # Output: 10 (Now global x is updated)"
      ],
      "metadata": {
        "id": "w93b1OeVNYuf",
        "colab": {
          "base_uri": "https://localhost:8080/"
        },
        "outputId": "b5369ecf-f3fe-4cee-ca81-5cefc09b49de"
      },
      "execution_count": 10,
      "outputs": [
        {
          "output_type": "stream",
          "name": "stdout",
          "text": [
            "10\n"
          ]
        }
      ]
    },
    {
      "cell_type": "markdown",
      "source": [
        "## Challenges\n",
        "\n",
        "Please describe the challenges you faced during the exercise."
      ],
      "metadata": {
        "id": "xQzjxKdvvbyo"
      }
    },
    {
      "cell_type": "markdown",
      "source": [
        "Write your challenges here"
      ],
      "metadata": {
        "id": "qfJNpTB5EbY4"
      }
    }
  ]
}